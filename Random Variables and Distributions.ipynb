{
 "cells": [
  {
   "cell_type": "markdown",
   "metadata": {},
   "source": [
    "# <center>Random Variables and Distributions</center>\n",
    "\n",
    "In the notebook *Visualizing and Munging Stock Data*, we primarily introduced the use of Python to import, read, and manipulate stock data by adding new features. One of the key new features we added is a moving average. After that, we combine what we have learned and developed our first simple trading strategy. In this simple trading strategy, we buy and hold one share of stock. If the 10 day moving average, MA10, is larger than 50 day moving average, MA50, which we called long one share of stock, then we do not do anything if MA50 is less than MA10. The result looks promising. But as we saw, there are points whereby we lose money and financial analysis, we will try our best to minimize the loss. What do we want to know is, how to compute the chance of bankruptcy if I apply this strategy? Am I lucky enough, so that we can avoid this in the next two years? The simple trading strategy is built on two variables, moving average 10 and moving average 50. In statistics, they are called random variables. This is where we need to apply some statistical knowledge by asking, what is a probability rule? Or more formally speaking, what is in distribution of these two random variables, MA10 and MA50? Identify important variables is important in helping us making better prediction and decisions."
   ]
  },
  {
   "cell_type": "markdown",
   "metadata": {},
   "source": [
    "## <center>Import Libraries</center>"
   ]
  },
  {
   "cell_type": "code",
   "execution_count": 42,
   "metadata": {},
   "outputs": [],
   "source": [
    "import pandas as pd\n",
    "import numpy as np\n",
    "import matplotlib.pyplot as plt\n",
    "from scipy.stats import norm\n",
    "%matplotlib inline"
   ]
  },
  {
   "cell_type": "markdown",
   "metadata": {},
   "source": [
    "## <center>Outcomes and Random Variables</center>\n",
    "\n",
    "In this part, we will see what is a random variable, the outcome and different types of random variable. Let us start with a very simple game, we roll two dice. In this game, we will compute and record the sum of face values of two dice. Using Python, we can mimic this game. Variable die has six values, one to six, with equal chance which stands for the real die. We use the pandas method sample to mimic the game. In a programming code, two means we are rolling two dice. Then we can calculate the sum for face values of these two dice and we get 10. "
   ]
  },
  {
   "cell_type": "code",
   "execution_count": 9,
   "metadata": {},
   "outputs": [
    {
     "name": "stdout",
     "output_type": "stream",
     "text": [
      "Sum of dice is 10\n"
     ]
    }
   ],
   "source": [
    "np.random.seed(1)  # This is for checking answer\n",
    "\n",
    "# roll two dice for multiple times\n",
    "die = pd.DataFrame([1, 2, 3, 4, 5, 6])\n",
    "sum_of_dice = die.sample(2, replace=True).sum().loc[0]\n",
    "print('Sum of dice is', sum_of_dice)  \n",
    "\n",
    "# you may get different outcomes as we now mimic the result of rolling 2 dice, but the range must be limited between 2 and 12. "
   ]
  },
  {
   "cell_type": "markdown",
   "metadata": {},
   "source": [
    "If we roll two dice 50 times, we can get 50 observation or realize outcomes of sum. Here, we print out first 10 observation of 50 trials. You may notice that it is possible to have same outcomes since we role dice independently in each trial. "
   ]
  },
  {
   "cell_type": "code",
   "execution_count": 10,
   "metadata": {},
   "outputs": [
    {
     "name": "stdout",
     "output_type": "stream",
     "text": [
      "[6, 6, 7, 3, 11, 7, 8, 9, 9, 8]\n"
     ]
    }
   ],
   "source": [
    "# The following code mimics the roll dice game for 50 times. And the results are all stored into \"Result\"\n",
    "# Lets try and get the results of 50 sum of faces.\n",
    "\n",
    "trial = 50\n",
    "result = [die.sample(2, replace=True).sum().loc[0] for i in range(trial)]\n",
    "\n",
    "#print the first 10 results\n",
    "print(result[:10])"
   ]
  },
  {
   "cell_type": "markdown",
   "metadata": {},
   "source": [
    "In this game, the sum, which we denote as *X*, is a random variable. Before we roll a die, we are not sure which outcome we can get. That is called Randomness of variable. But we know the collection of outcomes, which ranged from 2 to 12. The collection of outcomes on *Results* is not a random variable. Instead, they are realized or observed outcomes of values of *X*. Outcome is basically the results of the game. In the example above, the possible outcomes include integers from 2 to 12. So, it is called Discrete random variable. There is another type of variable, for example, daily return of a stock price. It can take any real values. Hence, it is called continuous random variable. We will discuss these two types of variables in more details later."
   ]
  },
  {
   "cell_type": "markdown",
   "metadata": {},
   "source": [
    "## <center>Frequency and Distributions</center>\n",
    "\n",
    "In this part, we will discuss frequency, relative frequency of observed outcomes, and introduce the concept of distribution. Recall, sum is a random variable, the print out is the 10 observed outcomes. Totally, we tried 50 times and get 50 realized outcomes of sum. Now, we want to calculate the frequency in this collection of outcomes. There is a very useful method of Data-Frame called value count, it will output pandas series, which has only one column if compared with dataFrame. Its index is a list of different outcomes and the value column, this is the frequency. But even can sort these series according to the index using sort index. For example, in our output, the first row says, the frequency for an outcome two is equal to one. "
   ]
  },
  {
   "cell_type": "code",
   "execution_count": 11,
   "metadata": {},
   "outputs": [
    {
     "data": {
      "text/plain": [
       "2     1\n",
       "3     4\n",
       "4     4\n",
       "5     8\n",
       "6     7\n",
       "7     5\n",
       "8     8\n",
       "9     6\n",
       "10    4\n",
       "11    3\n",
       "Name: 0, dtype: int64"
      ]
     },
     "execution_count": 11,
     "metadata": {},
     "output_type": "execute_result"
    }
   ],
   "source": [
    "freq = pd.DataFrame(result)[0].value_counts() # count value\n",
    "sort_freq = freq.sort_index() # sort by index (sums of the dices)\n",
    "sort_freq"
   ]
  },
  {
   "cell_type": "markdown",
   "metadata": {},
   "source": [
    "We can plot frequency using bar chart:"
   ]
  },
  {
   "cell_type": "code",
   "execution_count": 16,
   "metadata": {},
   "outputs": [
    {
     "data": {
      "image/png": "[encoded data removed]",
      "text/plain": [
       "<Figure size 720x576 with 1 Axes>"
      ]
     },
     "metadata": {
      "needs_background": "light"
     },
     "output_type": "display_data"
    }
   ],
   "source": [
    "plt.figure(figsize=(10, 8))\n",
    "sort_freq.plot(kind='bar', color='blue')\n",
    "plt.show()"
   ]
  },
  {
   "cell_type": "markdown",
   "metadata": {},
   "source": [
    "And frequency will change as the number of trials changes. If we want to compare the frequency of different trials, we have to convert frequency into relative frequency. Relative frequency equal to frequency divided by number of trials: $$Relative Frequency = \\frac{Frequency}{No. of trials}$$ With relative frequency, the shape of bar chart does not change. The scale of Y axis changes. This is a bar chart showing the frequency for the outcomes of 50 trials:"
   ]
  },
  {
   "cell_type": "code",
   "execution_count": 17,
   "metadata": {},
   "outputs": [
    {
     "data": {
      "image/png": "[encoded data removed]",
      "text/plain": [
       "<Figure size 720x576 with 1 Axes>"
      ]
     },
     "metadata": {
      "needs_background": "light"
     },
     "output_type": "display_data"
    }
   ],
   "source": [
    "relative_freq = sort_freq / trial\n",
    "plt.figure(figsize=(10, 8))\n",
    "relative_freq.plot(kind='bar', color='blue')\n",
    "plt.show()"
   ]
  },
  {
   "cell_type": "markdown",
   "metadata": {},
   "source": [
    "As we increase the numbers of trials for example, we start with 100 trials:"
   ]
  },
  {
   "cell_type": "code",
   "execution_count": 18,
   "metadata": {},
   "outputs": [
    {
     "data": {
      "image/png": "[encoded data removed]",
      "text/plain": [
       "<Figure size 1080x576 with 1 Axes>"
      ]
     },
     "metadata": {
      "needs_background": "light"
     },
     "output_type": "display_data"
    }
   ],
   "source": [
    "# Let us try to increase the number of trials to 100, and see what will happen...\n",
    "trial = 100\n",
    "results = [die.sample(2, replace=True).sum().loc[0] for i in range(trial)]\n",
    "freq = pd.DataFrame(results)[0].value_counts()\n",
    "sort_freq = freq.sort_index()\n",
    "relative_freq = sort_freq/trial\n",
    "\n",
    "plt.figure(figsize=(10, 8))\n",
    "relative_freq.plot(kind='bar', color='blue', figsize=(15, 8))\n",
    "plt.show()"
   ]
  },
  {
   "cell_type": "markdown",
   "metadata": {},
   "source": [
    "This is the one with the 10000 trials in this chart. "
   ]
  },
  {
   "cell_type": "code",
   "execution_count": 19,
   "metadata": {},
   "outputs": [
    {
     "data": {
      "image/png": "[encoded data removed]",
      "text/plain": [
       "<Figure size 1080x576 with 1 Axes>"
      ]
     },
     "metadata": {
      "needs_background": "light"
     },
     "output_type": "display_data"
    }
   ],
   "source": [
    "# Let us try to increase the number of trials to 10000, and see what will happen...\n",
    "trial = 10000\n",
    "results = [die.sample(2, replace=True).sum().loc[0] for i in range(trial)]\n",
    "freq = pd.DataFrame(results)[0].value_counts()\n",
    "sort_freq = freq.sort_index()\n",
    "relative_freq = sort_freq/trial\n",
    "\n",
    "plt.figure(figsize=(10, 8))\n",
    "relative_freq.plot(kind='bar', color='blue', figsize=(15, 8))\n",
    "plt.show()"
   ]
  },
  {
   "cell_type": "markdown",
   "metadata": {},
   "source": [
    "The bar chart goes toward a limit. The relative frequency become more and more stable as you increase the number of trials. What could be the limit if we have an infinite number of trials? Distribution of a random variable is a table consists of two sets of values. One for different values of outcome, the other list the probability for each value. Here is the distribution table:<br/>\n",
    "<img src=\"Prob_Table.png\"> <br/>\n",
    "We can compute all probability for X using python here: "
   ]
  },
  {
   "cell_type": "code",
   "execution_count": 26,
   "metadata": {},
   "outputs": [
    {
     "data": {
      "text/html": [
       "<div>\n",
       "<style scoped>\n",
       "    .dataframe tbody tr th:only-of-type {\n",
       "        vertical-align: middle;\n",
       "    }\n",
       "\n",
       "    .dataframe tbody tr th {\n",
       "        vertical-align: top;\n",
       "    }\n",
       "\n",
       "    .dataframe thead th {\n",
       "        text-align: right;\n",
       "    }\n",
       "</style>\n",
       "<table border=\"1\" class=\"dataframe\">\n",
       "  <thead>\n",
       "    <tr style=\"text-align: right;\">\n",
       "      <th></th>\n",
       "      <th>Prob</th>\n",
       "    </tr>\n",
       "  </thead>\n",
       "  <tbody>\n",
       "    <tr>\n",
       "      <td>2</td>\n",
       "      <td>0.055556</td>\n",
       "    </tr>\n",
       "    <tr>\n",
       "      <td>3</td>\n",
       "      <td>0.083333</td>\n",
       "    </tr>\n",
       "    <tr>\n",
       "      <td>4</td>\n",
       "      <td>0.111111</td>\n",
       "    </tr>\n",
       "    <tr>\n",
       "      <td>5</td>\n",
       "      <td>0.138889</td>\n",
       "    </tr>\n",
       "    <tr>\n",
       "      <td>6</td>\n",
       "      <td>0.166667</td>\n",
       "    </tr>\n",
       "    <tr>\n",
       "      <td>7</td>\n",
       "      <td>0.194444</td>\n",
       "    </tr>\n",
       "    <tr>\n",
       "      <td>8</td>\n",
       "      <td>0.222222</td>\n",
       "    </tr>\n",
       "    <tr>\n",
       "      <td>9</td>\n",
       "      <td>0.250000</td>\n",
       "    </tr>\n",
       "    <tr>\n",
       "      <td>10</td>\n",
       "      <td>0.277778</td>\n",
       "    </tr>\n",
       "    <tr>\n",
       "      <td>11</td>\n",
       "      <td>0.305556</td>\n",
       "    </tr>\n",
       "    <tr>\n",
       "      <td>12</td>\n",
       "      <td>0.333333</td>\n",
       "    </tr>\n",
       "  </tbody>\n",
       "</table>\n",
       "</div>"
      ],
      "text/plain": [
       "        Prob\n",
       "2   0.055556\n",
       "3   0.083333\n",
       "4   0.111111\n",
       "5   0.138889\n",
       "6   0.166667\n",
       "7   0.194444\n",
       "8   0.222222\n",
       "9   0.250000\n",
       "10  0.277778\n",
       "11  0.305556\n",
       "12  0.333333"
      ]
     },
     "execution_count": 26,
     "metadata": {},
     "output_type": "execute_result"
    }
   ],
   "source": [
    "# assume that we have fair dice, which means all faces will be shown with equal probability\n",
    "# then we can say we know the 'Distribtuion' of the random variable - sum_of_dice\n",
    "\n",
    "X_distri = pd.DataFrame(index=[2, 3, 4, 5, 6, 7, 8, 9, 10, 11, 12])\n",
    "X_distri['Prob'] = [2,3,4,5,6,7,8,9,10,11,12]\n",
    "X_distri['Prob'] = X_distri['Prob']/36\n",
    "X_distri"
   ]
  },
  {
   "cell_type": "markdown",
   "metadata": {},
   "source": [
    "X-distribution is a distribution table we built. From this distribution table, we do not know the shape of outcome immediately. Usually, mean and the variance are two characteristics of the distribution of random variables. Mean of a random variable is also called Expectation. The  general formula for the mean and the variance of a discrete random variable is:\n",
    "$$Mean(or Expectation) = \\sum_{i}p_{i}x_{i}$$\n",
    "$$Variance = \\sum_{i}{(x_{i} - Mean)^{2}}p_{i}$$\n",
    "$x_{i}$ here, is the only possible outcome. $p_{i}$ here, is the probability for this outcome. The mean is the average of all outcomes weighted by probabilities. Similarly for variance, which describes the variation of outcome. The Python code to compute the mean and the variance given distribution table is: "
   ]
  },
  {
   "cell_type": "code",
   "execution_count": 27,
   "metadata": {},
   "outputs": [
    {
     "name": "stdout",
     "output_type": "stream",
     "text": [
      "18.02777777777778 214.1112182784637\n"
     ]
    }
   ],
   "source": [
    "mean = pd.Series(X_distri.index * X_distri['Prob']).sum()\n",
    "var = pd.Series(((X_distri.index - mean)**2)*X_distri['Prob']).sum()\n",
    "\n",
    "#Output the mean and variance of the distribution. Mean and variance can be used to describe a distribution\n",
    "print(mean, var)"
   ]
  },
  {
   "cell_type": "markdown",
   "metadata": {},
   "source": [
    "## <center>Models of Distribution</center>\n",
    "\n",
    " In this part, we will model stock return using normal random variable and demonstrate the importance of distribution in identifying financial risk. Why it is important to know the distribution or model for stock return. It is really crucial in risk management. For example, the stock price of Apple drop over 40% from August 2012 to May 2013, roughly one year: "
   ]
  },
  {
   "cell_type": "code",
   "execution_count": 46,
   "metadata": {},
   "outputs": [
    {
     "data": {
      "image/png": "[encoded data removed]",
      "text/plain": [
       "<Figure size 720x576 with 1 Axes>"
      ]
     },
     "metadata": {
      "needs_background": "light"
     },
     "output_type": "display_data"
    }
   ],
   "source": [
    "aapl = pd.read_csv('data/apple.csv', index_col='Date')\n",
    "\n",
    "plt.figure(figsize=(10, 8))\n",
    "aapl.loc['2012-08-01':'2013-08-01', 'Close'].plot()\n",
    "plt.show()"
   ]
  },
  {
   "cell_type": "markdown",
   "metadata": {},
   "source": [
    "We need to compute what's the chance that the yearly return can be less than negative 40%. Is that possible, or just an extreme case like black swan? We compute log daily return for stock price of Apple. The histogram of a return is symmetric and bell shaped, which is very similar to normal distribution. "
   ]
  },
  {
   "cell_type": "code",
   "execution_count": 47,
   "metadata": {},
   "outputs": [
    {
     "data": {
      "image/png": "[encoded data removed]",
      "text/plain": [
       "<Figure size 720x576 with 1 Axes>"
      ]
     },
     "metadata": {
      "needs_background": "light"
     },
     "output_type": "display_data"
    }
   ],
   "source": [
    "aapl['LogReturn'] = np.log(aapl['Close']).shift(-1) - np.log(aapl['Close'])\n",
    "\n",
    "plt.figure(figsize=(10, 8))\n",
    "aapl['LogReturn'].hist(bins=50)\n",
    "plt.show()"
   ]
  },
  {
   "cell_type": "markdown",
   "metadata": {},
   "source": [
    "Using scipy which is a scientific computation package of python, we can get density function and a cumulative distribution function: <br/><br/><center>**PDF** = **P**robabilty **D**istribution **F**unction <br/> **&** <br/>**CDF** = **C**umulative **D**istribution **F**unction</center> "
   ]
  },
  {
   "cell_type": "code",
   "execution_count": 49,
   "metadata": {},
   "outputs": [
    {
     "name": "stdout",
     "output_type": "stream",
     "text": [
      "0.000975467759150088 0.020045447615854962\n"
     ]
    },
    {
     "data": {
      "image/png": "[encoded data removed]",
      "text/plain": [
       "<Figure size 1080x576 with 1 Axes>"
      ]
     },
     "metadata": {
      "needs_background": "light"
     },
     "output_type": "display_data"
    }
   ],
   "source": [
    "# Plot a histogram to show the distribution of log return of Apple's stock. \n",
    "# You can see it is very close to a normal distribution\n",
    "mu = aapl['LogReturn'].mean()\n",
    "sigma = aapl['LogReturn'].std(ddof=1)\n",
    "print(mu, sigma)\n",
    "\n",
    "density = pd.DataFrame()\n",
    "density['x'] = np.arange(aapl['LogReturn'].min()-0.01, aapl['LogReturn'].max()+0.01, 0.001)\n",
    "density['pdf'] = norm.pdf(density['x'], mu, sigma) # get pdf\n",
    "\n",
    "aapl['LogReturn'].hist(bins=50, figsize=(15, 8))\n",
    "plt.plot(density['x'], density['pdf'], color='red')\n",
    "plt.show()"
   ]
  },
  {
   "cell_type": "markdown",
   "metadata": {},
   "source": [
    "Given density for each possible value of a normal random variable. In fact normal random variable can take values from positive infinity to negative infinity. In Python code here, we get the density between -4 and 4 for simplicity. Two parameters 0, 1 in **norm.pdf** gives the mean and the standard deviation of a normal random variable. This normal random variable is also called a **standard normal random** variable, and its distribution is also called **z-distribution**. We can change these two values in order to get a different normal variables. Because, the density functions of a normal variables are only related to their mean and their variance. "
   ]
  },
  {
   "cell_type": "markdown",
   "metadata": {},
   "source": [
    "We also can get a cumulative distribution function, or in short a *CDF* which outputs the probability for the area, and lower side of each possible value. We can model daily stock return using normal distribution. We do not know the real mean and standard deviation of this normal random variable. We have a large collection of data return from historic data. We can compute the mean and the standard deviation in this collection. They are not the same as those of normal variable, but close enough, as this shown on the right. Then, what is the chance data loss can be more than 5%? We can use CDF to get this probability, which is 0.5%. "
   ]
  },
  {
   "cell_type": "code",
   "execution_count": 55,
   "metadata": {},
   "outputs": [
    {
     "name": "stdout",
     "output_type": "stream",
     "text": [
      "The probability is:  0.005495344250959507\n"
     ]
    }
   ],
   "source": [
    "prob_return1 = norm.cdf(-0.05, mu, sigma)\n",
    "print(\"The probability is: \", prob_return1)"
   ]
  },
  {
   "cell_type": "markdown",
   "metadata": {},
   "source": [
    "Hence we have 0.5% chance to have a daily loss more than 5%."
   ]
  },
  {
   "cell_type": "markdown",
   "metadata": {},
   "source": [
    "Our goal is to find out how likely that the stock price of Apple were dropped over 40%, 1 year which has 220 trading days. We will use another normal distribution to model yearly return. We need to figure out the mean and the standard deviation of a yearly return. We make assumption that the daily returns are independent, which is quite wrong. But it can simplify our discussion here, to get the mean and variance of a year return. We have formulas for sum of variables:\n",
    "\n",
    "<img src=\"ind_vars.png\">\n",
    "We need the independence when we compute the variance. If the data returns independent the variance of a unit return is equal to the sum of a variance of 220 daily return. Again, with no CDF we compute a probability, and it is less than 2%. "
   ]
  },
  {
   "cell_type": "code",
   "execution_count": 58,
   "metadata": {},
   "outputs": [
    {
     "name": "stdout",
     "output_type": "stream",
     "text": [
      "0.21460290701301937 0.29732203656371786\n",
      "The probability of dropping over 40% in 220 days is  0.019361015454142632\n"
     ]
    }
   ],
   "source": [
    "# drop over 40% in 220 days\n",
    "mu220 = 220*mu\n",
    "sigma220 = (220**0.5) * sigma\n",
    "print(mu220, sigma220)\n",
    "\n",
    "print('The probability of dropping over 40% in 220 days is ', norm.cdf(-0.4, mu220, sigma220))"
   ]
  },
  {
   "cell_type": "markdown",
   "metadata": {},
   "source": [
    "That implies, there's only less than 2% chance to have yearly loss to be more than 40%. What happened to Apple in 2012 and 2013? Is not consistent with its overall performance. In many circumstances, we need to solve a different type of problem with distribution. "
   ]
  },
  {
   "cell_type": "markdown",
   "metadata": {},
   "source": [
    "For example, finding quantiles of a normal distribution is a common task when performing statistical test in the financial risk management. Normal distribution quantiles can obtain using norm.ppf. **Ppf** stands for **P**ercent **P**oint **F**unction. In finance related to the quantile there is an important risk measure value of risk or **VaR**. It estimates how much a set of investments might lose with a given probability. **VaR** is typically used by firms and the regulators in the financial industry to gauge the amount of assess needed to cover possible loss. For example, 5% of quantile of daily return is called a 95% *VaR* or *VaR* at the level of 95%. We can use a ppf to get a 5% of quantile:"
   ]
  },
  {
   "cell_type": "code",
   "execution_count": 59,
   "metadata": {},
   "outputs": [
    {
     "name": "stdout",
     "output_type": "stream",
     "text": [
      "Single day value at risk  -0.031996359455654697\n"
     ]
    }
   ],
   "source": [
    "# Value at risk(VaR)\n",
    "VaR = norm.ppf(0.05, mu, sigma)\n",
    "print('Single day value at risk ', VaR)"
   ]
  },
  {
   "cell_type": "markdown",
   "metadata": {},
   "source": [
    "which is negative 0.03. hence, 95% of *VaR* is negative 0.03, it means with the 5% chance that daily return is worse than -3%. Is it safe to use normal description to model stock return? Distribution of a daily and monthly stock return, are rather symmetric about their means, but the tails are fatter. Which means there are more outliers that would be expected with normal distributions. It means that, if tail returns negative, as well as positive, may occur more often than we expect. If we use normal distribution, this is debatable, at least for the returns of some assets with different time window size. To modal a fat tail, people proposed modal return using **t-distributions** with low degree of freedom. "
   ]
  }
 ],
 "metadata": {
  "kernelspec": {
   "display_name": "Python 3",
   "language": "python",
   "name": "python3"
  },
  "language_info": {
   "codemirror_mode": {
    "name": "ipython",
    "version": 3
   },
   "file_extension": ".py",
   "mimetype": "text/x-python",
   "name": "python",
   "nbconvert_exporter": "python",
   "pygments_lexer": "ipython3",
   "version": "3.7.4"
  }
 },
 "nbformat": 4,
 "nbformat_minor": 2
}
